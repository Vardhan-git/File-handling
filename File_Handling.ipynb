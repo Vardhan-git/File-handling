{
  "nbformat": 4,
  "nbformat_minor": 0,
  "metadata": {
    "colab": {
      "provenance": []
    },
    "kernelspec": {
      "name": "python3",
      "display_name": "Python 3"
    },
    "language_info": {
      "name": "python"
    }
  },
  "cells": [
    {
      "cell_type": "code",
      "execution_count": null,
      "metadata": {
        "id": "8MJGWgBqIYFi"
      },
      "outputs": [],
      "source": []
    },
    {
      "cell_type": "markdown",
      "source": [
        "1.What is the difference between interpreted and compiled languages?\n",
        " - Interpreted languages: Code is executed line-by-line by an interpreter eg: Python, JavaScript. No separate compilation step; easier for debugging and cross-platform use.\n",
        "\n",
        " - Compiled languages: Code is translated into machine code by a compiler before execution eg: C, C++. Generally faster, but less flexible for platform changes\n",
        "\n",
        "2.What is exception handling in Python?\n",
        " - Exception handling is used to manage errors during program execution without crashing,Uses try, except, else, and finally blocks to handle exceptions gracefully.\n",
        "\n",
        "3.What is the purpose of the finally block in exception handling?\n",
        " - The Code written inside a finally block runs regardless of whether an exception occurred.\n",
        "\n",
        "4.What is logging in Python?\n",
        " - Process of recording program events, errors or information for debugging.\n",
        "\n",
        "5.What is the significance of the __del__ method in Python?\n",
        " - __del__ method is Called when an object is about to be destroyed.\n",
        "\n",
        "6.What is the difference between import and from ... import in Python?\n",
        " - import : imports the entire module where as from import : imports specific objects from the module\n",
        "\n",
        "7.How can you handle multiple exceptions in Python?\n",
        " - Use a tuple after except or multiple except clauses.\n",
        "\n",
        "8.What is the purpose of the with statement when handling files in Python?\n",
        " - Ensures resources like files are properly acquired and released Automatically closes the file after usage.\n",
        "\n",
        "9.What is the difference between multithreading and multiprocessing?\n",
        " - Multithreading: Multiple threads in one process eg: input output bound tasks\n",
        "   multiprocessing: Multiple processes eg: CPU bound tasks\n",
        "\n",
        "10.What are the advantages of using logging in a program?\n",
        " - logging tracks errors and helps in execution of program  and also useful in monitoring and debugging\n",
        "\n",
        "11.What is memory management in Python?\n",
        " - Automatic management of memory allocation and deallocation. Relies on garbage collection and reference counting mechanisms\n",
        "\n",
        "12.What are the basic steps involved in exception handling in Python?\n",
        " - use try block for the codes that may fail, Handle the exceptions using Except\n",
        " , you can also use optional else for the code to run if there are no exceptions, Use finally regardless of the excpetions\n",
        "\n",
        "13.Why is memory management important in Python?\n",
        " - Prevents memory leaks and inefficient resource usage.Ensures program performance and reliability.\n",
        "\n",
        "14.What is the role of try and except in exception handling?\n",
        " - try: Wraps code that might generate exceptions, except: Handles specific exceptions.\n",
        "\n",
        "15.How does Python's garbage collection system work?\n",
        " - Uses reference counting.An additional garbage collector identifies and frees unused references.\n",
        "\n",
        "16.What is the purpose of the else block in exception handling?\n",
        " - Executes if no exception occurred in the try block.\n",
        "\n",
        "17.What are the common logging levels in Python?\n",
        " - debug , info , critical , error, warning\n",
        "\n",
        "18.What is the difference between os.fork() and multiprocessing in Python?\n",
        " - os.fork() creates a child process but it is not available on windows, Multiprocessing is used for highlevel module for parallelism and it is platform independent\n",
        "\n",
        "19.What is the importance of closing a file in Python?\n",
        " - Frees up system resources.Ensures that all data is written and no corruption occurs.\n",
        "\n",
        "20.What is the difference between file.read() and file.readline() in Python?\n",
        " - file.read() reads entire file or a specified size.\n",
        " - file.readline() reads a single line from the file\n",
        "\n",
        "21.what is the logging module in Python used for?\n",
        " - The logging module in Python is used to record events, errors, warnings, and informational messages that happen during program execution. Logging helps in debugging, monitoring, troubleshooting, and auditing applications.\n",
        "\n",
        "22.What is the os module in Python used for in file handling?\n",
        " - The os module provides a way to interact with the operating system. In terms of file handling, it lets you perform operations such as:Creating, renaming, and deleting files and directories.\n",
        "\n",
        "23.What are the challenges associated with memory management in Python?\n",
        " - Challenges that are associated with memory management are:\n",
        "   Memory leaks , circular references , Garbage collection pauses , Lack of manual controls , Difficult to track spikes\n",
        "\n",
        "24.How do you raise an exception manually in Python?\n",
        " - You can manually raise exceptions in Python using the raise keyword\n",
        "\n",
        "25.Why is it important to use multithreading in certain applications?\n",
        " - It enables better performance for applications that perform many I/O-bound operations, letting other threads run while one waits for a response.\n",
        "\n",
        "\n",
        "\n",
        "\n",
        "\n",
        "\n",
        "\n",
        "\n",
        "\n",
        "\n",
        "\n",
        "\n",
        "\n",
        "\n",
        "\n",
        "\n",
        "\n"
      ],
      "metadata": {
        "id": "-MNA-x53Ili0"
      }
    },
    {
      "cell_type": "code",
      "source": [
        "#How can you open a file for writing in Python and write a string to it?\n",
        "with open(\"file.txt\", \"w\") as file:\n",
        "    file.write(\"Hello, world!\")"
      ],
      "metadata": {
        "id": "_sr5LR3UQMJK"
      },
      "execution_count": 1,
      "outputs": []
    },
    {
      "cell_type": "code",
      "source": [
        "#Write a Python program to read the contents of a file and print each line?\n",
        "with open(\"file.txt\", \"r\") as file:\n",
        "    for line in file:\n",
        "        print(line)"
      ],
      "metadata": {
        "id": "Zbwwx1TXQhX0"
      },
      "execution_count": null,
      "outputs": []
    },
    {
      "cell_type": "code",
      "source": [
        "#How would you handle a case where the file doesn't exist while trying to open it for reading?\n",
        "try:\n",
        "    with open(\"file.txt\", \"r\") as file:\n",
        "        content = file.read()\n",
        "except FileNotFoundError:\n",
        "    print(\"Error: File not found.\")\n"
      ],
      "metadata": {
        "id": "-CWlEkvyQhdE"
      },
      "execution_count": null,
      "outputs": []
    },
    {
      "cell_type": "code",
      "source": [
        "#Write a Python script that reads from one file and writes its content to another file?\n",
        "with open(\"file1.txt\", \"r\") as source_file:\n",
        "    content = source_file.read()\n",
        "with open(\"file2.txt\", \"w\") as destination_file:\n",
        "    destination_file.write(content)\n"
      ],
      "metadata": {
        "id": "paub1gxuQhfF"
      },
      "execution_count": null,
      "outputs": []
    },
    {
      "cell_type": "code",
      "source": [
        "#How would you catch and handle division by zero error in Python?\n",
        "try:\n",
        "    result = 10 / 0\n",
        "except ZeroDivisionError:\n",
        "    print(\"Error: Division by zero.\")\n"
      ],
      "metadata": {
        "id": "V771QFxBQhhR"
      },
      "execution_count": null,
      "outputs": []
    },
    {
      "cell_type": "code",
      "source": [
        "#Write a Python program that logs an error message to a log file when a division by zero exception occurs?\n",
        "import logging\n",
        "\n",
        "logging.basicConfig(filename=\"error_log.txt\", level=logging.ERROR)\n",
        "\n",
        "try:\n",
        "    result = 10 / 0\n",
        "except ZeroDivisionError:\n",
        "    logging.error(\"Division by zero error occurred.\")"
      ],
      "metadata": {
        "id": "TRVImd48QhjM"
      },
      "execution_count": null,
      "outputs": []
    },
    {
      "cell_type": "code",
      "source": [
        "#How do you log information at different levels (INFO, ERROR, WARNING) in Python using the logging module?\n",
        "import logging\n",
        "\n",
        "logging.basicConfig(filename=\"log_file.txt\", level=logging.INFO)\n",
        "\n",
        "logging.info(\"This is an informational message.\")\n",
        "logging.error(\"This is an error message.\")\n",
        "logging.warning(\"This is a warning message.\")"
      ],
      "metadata": {
        "id": "gT2L3RxZRCR9"
      },
      "execution_count": null,
      "outputs": []
    },
    {
      "cell_type": "code",
      "source": [
        "#Write a program to handle a file opening error using exception handling?\n",
        "try:\n",
        "    with open(\"file.txt\", \"r\") as file:\n",
        "        content = file.read()\n",
        "except FileNotFoundError:\n",
        "    print(\"Error: File not found.\")\n"
      ],
      "metadata": {
        "id": "yY1G9ByNRCUR"
      },
      "execution_count": null,
      "outputs": []
    },
    {
      "cell_type": "code",
      "source": [
        "#How can you read a file line by line and store its content in a list in Python?\n",
        "with open(\"file.txt\", \"r\") as file:\n",
        "    lines = file.readlines()\n",
        "print(lines)\n"
      ],
      "metadata": {
        "id": "9LqDN1PyRCWg"
      },
      "execution_count": null,
      "outputs": []
    },
    {
      "cell_type": "code",
      "source": [
        "#How can you append data to an existing file in Python?\n",
        "with open(\"file.txt\", \"a\") as file:\n",
        "    file.write(\"\\nAppended line.\")\n"
      ],
      "metadata": {
        "id": "L-w6J-N2RCY1"
      },
      "execution_count": 3,
      "outputs": []
    },
    {
      "cell_type": "code",
      "source": [
        "#Write a Python program that uses a try-except block to handle an error when attempting to access a dictionary key that doesn't exist.\n",
        "my_dict = {\"a\": 1, \"b\": 2}\n",
        "\n",
        "try:\n",
        "    value = my_dict[\"c\"]\n",
        "except KeyError:\n",
        "    print(\"Error: Key not found in the dictionary.\")"
      ],
      "metadata": {
        "colab": {
          "base_uri": "https://localhost:8080/"
        },
        "id": "eWsLOm-jRCbL",
        "outputId": "199c045f-ed9b-45e9-edbc-acbb86a74ecb"
      },
      "execution_count": 2,
      "outputs": [
        {
          "output_type": "stream",
          "name": "stdout",
          "text": [
            "Error: Key not found in the dictionary.\n"
          ]
        }
      ]
    },
    {
      "cell_type": "code",
      "source": [
        "#Write a program that demonstrates using multiple except blocks to handle different types of exceptions\n",
        "try:\n",
        "    result = 10 / 0\n",
        "except ZeroDivisionError:\n",
        "    print(\"Error: Division by zero.\")\n",
        "except ValueError:\n",
        "    print(\"Error: Invalid value.\")"
      ],
      "metadata": {
        "id": "gAmR1vsCRCdo"
      },
      "execution_count": null,
      "outputs": []
    },
    {
      "cell_type": "code",
      "source": [
        "#Python script to read from one file and write its content to another\n",
        "with open(\"file1.txt\", \"r\") as source_file:\n",
        "    content = source_file.read()\n",
        "with open(\"file2.txt\", \"w\") as destination_file:\n",
        "    destination_file.write(content)\n"
      ],
      "metadata": {
        "id": "YN29vLLkRCgE"
      },
      "execution_count": null,
      "outputs": []
    },
    {
      "cell_type": "code",
      "source": [
        "#How would you check if a file exists before attempting to read it in Python\n",
        "import os\n",
        "\n",
        "if os.path.exists(\"file.txt\"):\n",
        "    with open(\"file.txt\", \"r\") as file:\n",
        "        content = file.read()\n",
        "else:\n",
        "    print(\"Error: File not found.\")"
      ],
      "metadata": {
        "id": "nEuDhkBzRCiU"
      },
      "execution_count": null,
      "outputs": []
    },
    {
      "cell_type": "code",
      "source": [
        "# Write a program that uses the logging module to log both informational and error messages?\n",
        "import logging\n",
        "\n",
        "logging.basicConfig(filename=\"log_file.txt\", level=logging.INFO)\n",
        "\n",
        "logging.info(\"This is an informational message.\")\n",
        "logging.error(\"This is an error message.\")"
      ],
      "metadata": {
        "id": "WsqwZ-lvRCku"
      },
      "execution_count": null,
      "outputs": []
    },
    {
      "cell_type": "code",
      "source": [
        "#Write a Python program that prints the content of a file and handles the case when the file is empty?\n",
        "try:\n",
        "    with open(\"file.txt\", \"r\") as file:\n",
        "        content = file.read()\n",
        "        if not content:\n",
        "            raise ValueError(\"File is empty.\")\n",
        "        print(content)\n",
        "except ValueError as e:\n",
        "    print"
      ],
      "metadata": {
        "id": "3O49MotYRCoJ"
      },
      "execution_count": null,
      "outputs": []
    },
    {
      "cell_type": "code",
      "source": [
        "#Demonstrate how to use memory profiling to check the memory usage of a small program?\n",
        "import memory_profiler\n",
        "\n",
        "@memory_profiler.profile\n",
        "def my_function():\n",
        "    # Code for the function\n",
        "    pass\n",
        "\n",
        "if __name__ == \"__main__\":\n",
        "    my_function()"
      ],
      "metadata": {
        "id": "BSDeUs04S6iO"
      },
      "execution_count": null,
      "outputs": []
    },
    {
      "cell_type": "code",
      "source": [
        "#Write a Python program to create and write a list of numbers to a file, one number per line\n",
        "with open(\"numbers.txt\", \"w\") as file:\n",
        "    numbers = [1, 2, 3, 4, 5]\n",
        "    for number in numbers:\n",
        "        file.write(str(number) + \"\\n\")"
      ],
      "metadata": {
        "id": "FEQME0zTS6lq"
      },
      "execution_count": null,
      "outputs": []
    },
    {
      "cell_type": "code",
      "source": [
        "#How would you implement a basic logging setup that logs to a file with rotation after 1MB?\n",
        "import logging\n",
        "from logging.handlers import RotatingFileHandler\n",
        "\n",
        "logger = logging.getLogger()\n",
        "handler = RotatingFileHandler(\"mylog.log\", maxBytes=1_000_000, backupCount=3)\n",
        "logger.addHandler(handler)\n",
        "logger.setLevel(logging.DEBUG)\n",
        "\n",
        "logger.info(\"Logging with rotation after 1MB.\")"
      ],
      "metadata": {
        "colab": {
          "base_uri": "https://localhost:8080/"
        },
        "id": "4NryLA4BS6tI",
        "outputId": "073c4ac4-63d1-4a91-d554-123718e638e0"
      },
      "execution_count": 8,
      "outputs": [
        {
          "output_type": "stream",
          "name": "stderr",
          "text": [
            "INFO:root:Logging with rotation after 1MB.\n"
          ]
        }
      ]
    },
    {
      "cell_type": "code",
      "source": [
        "#Write a program that handles both IndexError and KeyError using a try-except block?\n",
        "my_list = [1, 2, 3]\n",
        "my_dict = {\"a\": 1, \"b\": 2}\n",
        "\n",
        "try:\n",
        "    value = my_list[3]\n",
        "except IndexError:\n",
        "    print(\"Error: Index out of range.\")\n",
        "except KeyError:\n",
        "    print(\"Error: Key not found in the dictionary.\")"
      ],
      "metadata": {
        "colab": {
          "base_uri": "https://localhost:8080/"
        },
        "id": "Zd90zWaaTsXo",
        "outputId": "284d59ad-7fe4-4eda-9102-ca6c75625fa1"
      },
      "execution_count": 9,
      "outputs": [
        {
          "output_type": "stream",
          "name": "stdout",
          "text": [
            "Error: Index out of range.\n"
          ]
        }
      ]
    },
    {
      "cell_type": "code",
      "source": [
        "#How would you open a file and read its contents using a context manager in Python?\n",
        "with open(\"file.txt\", \"r\") as file:\n",
        "    content = file.read()\n",
        "print(content)\n"
      ],
      "metadata": {
        "id": "mseCYdcmTsZ4"
      },
      "execution_count": null,
      "outputs": []
    },
    {
      "cell_type": "code",
      "source": [
        "#Write a Python program that reads a file and prints the number of occurrences of a specific word?\n",
        "word_to_count = \"hello\"\n",
        "count = 0\n",
        "with open(\"file.txt\", \"r\") as file:\n",
        "    for line in file:\n",
        "        count += line.lower().split().count(word_to_count.lower())\n",
        "print(f\"'{word_to_count}' occurs {count} times.\")\n"
      ],
      "metadata": {
        "id": "YpnCm8ebTscF"
      },
      "execution_count": null,
      "outputs": []
    },
    {
      "cell_type": "code",
      "source": [
        "#How can you check if a file is empty before attempting to read its contents?\n",
        "with open(\"file.txt\", \"r\") as file:\n",
        "    content = file.read()\n",
        "    if not content:\n",
        "        print(\"Error: File is empty.\")"
      ],
      "metadata": {
        "id": "VfeqZvjBTsft"
      },
      "execution_count": null,
      "outputs": []
    },
    {
      "cell_type": "code",
      "source": [
        "# Write a Python program that writes to a log file when an error occurs during file handling.\n",
        "import logging\n",
        "\n",
        "logging.basicConfig(filename=\"file_errors.log\", level=logging.ERROR)\n",
        "\n",
        "try:\n",
        "    with open(\"nonexistentfile.txt\", \"r\") as file:\n",
        "        content = file.read()\n",
        "except Exception as e:\n",
        "    logging.error(\"File handling error: %s\", e)"
      ],
      "metadata": {
        "id": "oHct3aGGUULW"
      },
      "execution_count": null,
      "outputs": []
    }
  ]
}